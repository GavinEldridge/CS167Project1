{
  "nbformat": 4,
  "nbformat_minor": 0,
  "metadata": {
    "colab": {
      "provenance": [],
      "include_colab_link": true
    },
    "kernelspec": {
      "name": "python3",
      "display_name": "Python 3"
    },
    "language_info": {
      "name": "python"
    }
  },
  "cells": [
    {
      "cell_type": "markdown",
      "metadata": {
        "id": "view-in-github",
        "colab_type": "text"
      },
      "source": [
        "<a href=\"https://colab.research.google.com/github/DrakeCS167Fall22/cs167fall22project1-GavinEldridge/blob/main/Copy_of_CS_167_Project_1.ipynb\" target=\"_parent\"><img src=\"https://colab.research.google.com/assets/colab-badge.svg\" alt=\"Open In Colab\"/></a>"
      ]
    },
    {
      "cell_type": "markdown",
      "source": [
        "# Project #1\n",
        "# Name: Gavin Eldridge"
      ],
      "metadata": {
        "id": "-BU7Gq41DZ3J"
      }
    },
    {
      "cell_type": "code",
      "execution_count": 72,
      "metadata": {
        "colab": {
          "base_uri": "https://localhost:8080/"
        },
        "id": "oEYhfh9WDIKb",
        "outputId": "ef531b83-c115-48f5-cec9-8e4745bb4a50"
      },
      "outputs": [
        {
          "output_type": "stream",
          "name": "stdout",
          "text": [
            "Drive already mounted at /content/drive; to attempt to forcibly remount, call drive.mount(\"/content/drive\", force_remount=True).\n"
          ]
        }
      ],
      "source": [
        "# mount drive\n",
        "from google.colab import drive\n",
        "drive.mount('/content/drive')"
      ]
    },
    {
      "cell_type": "code",
      "source": [
        "# import libraries\n",
        "import sklearn\n",
        "import pandas\n",
        "from sklearn import tree\n",
        "from sklearn.model_selection import train_test_split\n",
        "from sklearn import metrics\n",
        "from sklearn import neighbors\n",
        "\n",
        "# load data\n",
        "car_data = pandas.read_csv('/content/drive/MyDrive/CS167datasets/CarPricesProject1.csv')\n",
        "car_data.head()"
      ],
      "metadata": {
        "id": "PfWHIGzlEGlW",
        "colab": {
          "base_uri": "https://localhost:8080/",
          "height": 352
        },
        "outputId": "6cdf7a9a-a800-4469-8c02-97eb149e0d24"
      },
      "execution_count": 73,
      "outputs": [
        {
          "output_type": "execute_result",
          "data": {
            "text/plain": [
              "   symboling                   CarName fueltype aspiration doornumber  \\\n",
              "0        3.0        alfa-romero giulia      gas        std        two   \n",
              "1        3.0       alfa-romero stelvio      gas        std        two   \n",
              "2        1.0  alfa-romero Quadrifoglio      gas        std        two   \n",
              "3        2.0               audi 100 ls      gas        std       four   \n",
              "4        2.0                audi 100ls      gas        std       four   \n",
              "\n",
              "       carbody drivewheel enginelocation  wheelbase  carlength  ...  \\\n",
              "0  convertible        rwd          front       88.6      168.8  ...   \n",
              "1  convertible        rwd          front       88.6      168.8  ...   \n",
              "2    hatchback        rwd          front       94.5      171.2  ...   \n",
              "3        sedan        fwd          front       99.8      176.6  ...   \n",
              "4        sedan        4wd          front       99.4      176.6  ...   \n",
              "\n",
              "   enginesize  fuelsystem  boreratio stroke compressionratio  horsepower  \\\n",
              "0       130.0        mpfi       3.47   2.68              9.0       111.0   \n",
              "1       130.0        mpfi       3.47   2.68              9.0       111.0   \n",
              "2       152.0        mpfi       2.68   3.47              9.0       154.0   \n",
              "3       109.0        mpfi       3.19   3.40             10.0       102.0   \n",
              "4       136.0        mpfi       3.19   3.40              8.0       115.0   \n",
              "\n",
              "  peakrpm  citympg  highwaympg    price  \n",
              "0  5000.0     21.0        27.0  13495.0  \n",
              "1  5000.0     21.0        27.0  16500.0  \n",
              "2  5000.0     19.0        26.0  16500.0  \n",
              "3  5500.0     24.0        30.0  13950.0  \n",
              "4  5500.0     18.0        22.0  17450.0  \n",
              "\n",
              "[5 rows x 25 columns]"
            ],
            "text/html": [
              "\n",
              "  <div id=\"df-8b43b809-d0e0-468e-ac9b-82f42a863cd4\">\n",
              "    <div class=\"colab-df-container\">\n",
              "      <div>\n",
              "<style scoped>\n",
              "    .dataframe tbody tr th:only-of-type {\n",
              "        vertical-align: middle;\n",
              "    }\n",
              "\n",
              "    .dataframe tbody tr th {\n",
              "        vertical-align: top;\n",
              "    }\n",
              "\n",
              "    .dataframe thead th {\n",
              "        text-align: right;\n",
              "    }\n",
              "</style>\n",
              "<table border=\"1\" class=\"dataframe\">\n",
              "  <thead>\n",
              "    <tr style=\"text-align: right;\">\n",
              "      <th></th>\n",
              "      <th>symboling</th>\n",
              "      <th>CarName</th>\n",
              "      <th>fueltype</th>\n",
              "      <th>aspiration</th>\n",
              "      <th>doornumber</th>\n",
              "      <th>carbody</th>\n",
              "      <th>drivewheel</th>\n",
              "      <th>enginelocation</th>\n",
              "      <th>wheelbase</th>\n",
              "      <th>carlength</th>\n",
              "      <th>...</th>\n",
              "      <th>enginesize</th>\n",
              "      <th>fuelsystem</th>\n",
              "      <th>boreratio</th>\n",
              "      <th>stroke</th>\n",
              "      <th>compressionratio</th>\n",
              "      <th>horsepower</th>\n",
              "      <th>peakrpm</th>\n",
              "      <th>citympg</th>\n",
              "      <th>highwaympg</th>\n",
              "      <th>price</th>\n",
              "    </tr>\n",
              "  </thead>\n",
              "  <tbody>\n",
              "    <tr>\n",
              "      <th>0</th>\n",
              "      <td>3.0</td>\n",
              "      <td>alfa-romero giulia</td>\n",
              "      <td>gas</td>\n",
              "      <td>std</td>\n",
              "      <td>two</td>\n",
              "      <td>convertible</td>\n",
              "      <td>rwd</td>\n",
              "      <td>front</td>\n",
              "      <td>88.6</td>\n",
              "      <td>168.8</td>\n",
              "      <td>...</td>\n",
              "      <td>130.0</td>\n",
              "      <td>mpfi</td>\n",
              "      <td>3.47</td>\n",
              "      <td>2.68</td>\n",
              "      <td>9.0</td>\n",
              "      <td>111.0</td>\n",
              "      <td>5000.0</td>\n",
              "      <td>21.0</td>\n",
              "      <td>27.0</td>\n",
              "      <td>13495.0</td>\n",
              "    </tr>\n",
              "    <tr>\n",
              "      <th>1</th>\n",
              "      <td>3.0</td>\n",
              "      <td>alfa-romero stelvio</td>\n",
              "      <td>gas</td>\n",
              "      <td>std</td>\n",
              "      <td>two</td>\n",
              "      <td>convertible</td>\n",
              "      <td>rwd</td>\n",
              "      <td>front</td>\n",
              "      <td>88.6</td>\n",
              "      <td>168.8</td>\n",
              "      <td>...</td>\n",
              "      <td>130.0</td>\n",
              "      <td>mpfi</td>\n",
              "      <td>3.47</td>\n",
              "      <td>2.68</td>\n",
              "      <td>9.0</td>\n",
              "      <td>111.0</td>\n",
              "      <td>5000.0</td>\n",
              "      <td>21.0</td>\n",
              "      <td>27.0</td>\n",
              "      <td>16500.0</td>\n",
              "    </tr>\n",
              "    <tr>\n",
              "      <th>2</th>\n",
              "      <td>1.0</td>\n",
              "      <td>alfa-romero Quadrifoglio</td>\n",
              "      <td>gas</td>\n",
              "      <td>std</td>\n",
              "      <td>two</td>\n",
              "      <td>hatchback</td>\n",
              "      <td>rwd</td>\n",
              "      <td>front</td>\n",
              "      <td>94.5</td>\n",
              "      <td>171.2</td>\n",
              "      <td>...</td>\n",
              "      <td>152.0</td>\n",
              "      <td>mpfi</td>\n",
              "      <td>2.68</td>\n",
              "      <td>3.47</td>\n",
              "      <td>9.0</td>\n",
              "      <td>154.0</td>\n",
              "      <td>5000.0</td>\n",
              "      <td>19.0</td>\n",
              "      <td>26.0</td>\n",
              "      <td>16500.0</td>\n",
              "    </tr>\n",
              "    <tr>\n",
              "      <th>3</th>\n",
              "      <td>2.0</td>\n",
              "      <td>audi 100 ls</td>\n",
              "      <td>gas</td>\n",
              "      <td>std</td>\n",
              "      <td>four</td>\n",
              "      <td>sedan</td>\n",
              "      <td>fwd</td>\n",
              "      <td>front</td>\n",
              "      <td>99.8</td>\n",
              "      <td>176.6</td>\n",
              "      <td>...</td>\n",
              "      <td>109.0</td>\n",
              "      <td>mpfi</td>\n",
              "      <td>3.19</td>\n",
              "      <td>3.40</td>\n",
              "      <td>10.0</td>\n",
              "      <td>102.0</td>\n",
              "      <td>5500.0</td>\n",
              "      <td>24.0</td>\n",
              "      <td>30.0</td>\n",
              "      <td>13950.0</td>\n",
              "    </tr>\n",
              "    <tr>\n",
              "      <th>4</th>\n",
              "      <td>2.0</td>\n",
              "      <td>audi 100ls</td>\n",
              "      <td>gas</td>\n",
              "      <td>std</td>\n",
              "      <td>four</td>\n",
              "      <td>sedan</td>\n",
              "      <td>4wd</td>\n",
              "      <td>front</td>\n",
              "      <td>99.4</td>\n",
              "      <td>176.6</td>\n",
              "      <td>...</td>\n",
              "      <td>136.0</td>\n",
              "      <td>mpfi</td>\n",
              "      <td>3.19</td>\n",
              "      <td>3.40</td>\n",
              "      <td>8.0</td>\n",
              "      <td>115.0</td>\n",
              "      <td>5500.0</td>\n",
              "      <td>18.0</td>\n",
              "      <td>22.0</td>\n",
              "      <td>17450.0</td>\n",
              "    </tr>\n",
              "  </tbody>\n",
              "</table>\n",
              "<p>5 rows × 25 columns</p>\n",
              "</div>\n",
              "      <button class=\"colab-df-convert\" onclick=\"convertToInteractive('df-8b43b809-d0e0-468e-ac9b-82f42a863cd4')\"\n",
              "              title=\"Convert this dataframe to an interactive table.\"\n",
              "              style=\"display:none;\">\n",
              "        \n",
              "  <svg xmlns=\"http://www.w3.org/2000/svg\" height=\"24px\"viewBox=\"0 0 24 24\"\n",
              "       width=\"24px\">\n",
              "    <path d=\"M0 0h24v24H0V0z\" fill=\"none\"/>\n",
              "    <path d=\"M18.56 5.44l.94 2.06.94-2.06 2.06-.94-2.06-.94-.94-2.06-.94 2.06-2.06.94zm-11 1L8.5 8.5l.94-2.06 2.06-.94-2.06-.94L8.5 2.5l-.94 2.06-2.06.94zm10 10l.94 2.06.94-2.06 2.06-.94-2.06-.94-.94-2.06-.94 2.06-2.06.94z\"/><path d=\"M17.41 7.96l-1.37-1.37c-.4-.4-.92-.59-1.43-.59-.52 0-1.04.2-1.43.59L10.3 9.45l-7.72 7.72c-.78.78-.78 2.05 0 2.83L4 21.41c.39.39.9.59 1.41.59.51 0 1.02-.2 1.41-.59l7.78-7.78 2.81-2.81c.8-.78.8-2.07 0-2.86zM5.41 20L4 18.59l7.72-7.72 1.47 1.35L5.41 20z\"/>\n",
              "  </svg>\n",
              "      </button>\n",
              "      \n",
              "  <style>\n",
              "    .colab-df-container {\n",
              "      display:flex;\n",
              "      flex-wrap:wrap;\n",
              "      gap: 12px;\n",
              "    }\n",
              "\n",
              "    .colab-df-convert {\n",
              "      background-color: #E8F0FE;\n",
              "      border: none;\n",
              "      border-radius: 50%;\n",
              "      cursor: pointer;\n",
              "      display: none;\n",
              "      fill: #1967D2;\n",
              "      height: 32px;\n",
              "      padding: 0 0 0 0;\n",
              "      width: 32px;\n",
              "    }\n",
              "\n",
              "    .colab-df-convert:hover {\n",
              "      background-color: #E2EBFA;\n",
              "      box-shadow: 0px 1px 2px rgba(60, 64, 67, 0.3), 0px 1px 3px 1px rgba(60, 64, 67, 0.15);\n",
              "      fill: #174EA6;\n",
              "    }\n",
              "\n",
              "    [theme=dark] .colab-df-convert {\n",
              "      background-color: #3B4455;\n",
              "      fill: #D2E3FC;\n",
              "    }\n",
              "\n",
              "    [theme=dark] .colab-df-convert:hover {\n",
              "      background-color: #434B5C;\n",
              "      box-shadow: 0px 1px 3px 1px rgba(0, 0, 0, 0.15);\n",
              "      filter: drop-shadow(0px 1px 2px rgba(0, 0, 0, 0.3));\n",
              "      fill: #FFFFFF;\n",
              "    }\n",
              "  </style>\n",
              "\n",
              "      <script>\n",
              "        const buttonEl =\n",
              "          document.querySelector('#df-8b43b809-d0e0-468e-ac9b-82f42a863cd4 button.colab-df-convert');\n",
              "        buttonEl.style.display =\n",
              "          google.colab.kernel.accessAllowed ? 'block' : 'none';\n",
              "\n",
              "        async function convertToInteractive(key) {\n",
              "          const element = document.querySelector('#df-8b43b809-d0e0-468e-ac9b-82f42a863cd4');\n",
              "          const dataTable =\n",
              "            await google.colab.kernel.invokeFunction('convertToInteractive',\n",
              "                                                     [key], {});\n",
              "          if (!dataTable) return;\n",
              "\n",
              "          const docLinkHtml = 'Like what you see? Visit the ' +\n",
              "            '<a target=\"_blank\" href=https://colab.research.google.com/notebooks/data_table.ipynb>data table notebook</a>'\n",
              "            + ' to learn more about interactive tables.';\n",
              "          element.innerHTML = '';\n",
              "          dataTable['output_type'] = 'display_data';\n",
              "          await google.colab.output.renderOutput(dataTable, element);\n",
              "          const docLink = document.createElement('div');\n",
              "          docLink.innerHTML = docLinkHtml;\n",
              "          element.appendChild(docLink);\n",
              "        }\n",
              "      </script>\n",
              "    </div>\n",
              "  </div>\n",
              "  "
            ]
          },
          "metadata": {},
          "execution_count": 73
        }
      ]
    },
    {
      "cell_type": "markdown",
      "source": [
        "# Data Preparation\n",
        "Explain your data preparation. What did you have to do to get your data in shape for your experiments - creation of dummy variables, filling in missing values, etc."
      ],
      "metadata": {
        "id": "z11g8GFvIi1R"
      }
    },
    {
      "cell_type": "markdown",
      "source": [
        "For my data Preparation I started off with making a copy of the original data and then immediately dropping the car names value because I did not think that would be a use for it in the models. Then I went through and filled all missing values in numeric data columns with the averages found in that column. I then replaced the doornumber and cylindernumber columns to contain actual numbers instead of them written. I decided to keep cylindernumber numeric instead of a dummy because I felt that it was valid that a 2 cylinder car and an 8 cylinder car have more of a difference than 2 to 4. I did this to door number because through personal experience 2 doors is associated with more sports and luxurious cars, which are more expensive, rather than four doors so I wanted to allow that variable to have the biggest impact it could have as well. For the rest of the variables I made them into dummy variables so that they could still be used in our prediction. I decided to keep all variables for now so that testing would not be limited right away."
      ],
      "metadata": {
        "id": "68FiNsPHNmi2"
      }
    },
    {
      "cell_type": "code",
      "source": [
        "clean_data = car_data.copy()\n",
        "clean_data.drop(columns= ['CarName'], inplace = True)\n",
        "print(clean_data.head())\n",
        "\n",
        "clean_data['symboling'].fillna(clean_data['symboling'].mean(), inplace = True)\n",
        "clean_data['wheelbase'].fillna(clean_data['wheelbase'].mean(), inplace = True)\n",
        "clean_data['carlength'].fillna(clean_data['carlength'].mean(), inplace = True)\n",
        "clean_data['carwidth'].fillna(clean_data['carwidth'].mean(), inplace = True)\n",
        "clean_data['carheight'].fillna(clean_data['carheight'].mean(), inplace = True)\n",
        "clean_data['curbweight'].fillna(clean_data['curbweight'].mean(), inplace = True)\n",
        "clean_data['enginesize'].fillna(clean_data['enginesize'].mean(), inplace = True)\n",
        "clean_data['boreratio'].fillna(clean_data['boreratio'].mean(), inplace = True)\n",
        "clean_data['stroke'].fillna(clean_data['stroke'].mean(), inplace = True)\n",
        "clean_data['compressionratio'].fillna(clean_data['compressionratio'].mean(), inplace = True)\n",
        "clean_data['horsepower'].fillna(clean_data['horsepower'].mean(), inplace = True)\n",
        "clean_data['peakrpm'].fillna(clean_data['peakrpm'].mean(), inplace = True)\n",
        "clean_data['citympg'].fillna(clean_data['citympg'].mean(), inplace = True)\n",
        "clean_data['highwaympg'].fillna(clean_data['highwaympg'].mean(), inplace = True)\n",
        "clean_data['price'].fillna(clean_data['price'].mean(), inplace = True)\n",
        "\n",
        "clean_data['doornumber'].replace(['two','four'], [2,4], inplace = True)\n",
        "clean_data['doornumber'].fillna(clean_data['doornumber'].median(), inplace = True)\n",
        "clean_data['cylindernumber'].replace(['two','three','four','five','six','eight','twelve'], [2,3,4,5,6,8,12], inplace = True)\n",
        "clean_data['cylindernumber'].fillna(clean_data['cylindernumber'].median(), inplace = True)\n",
        "\n",
        "clean_data = pandas.get_dummies(clean_data, columns =['fueltype','aspiration','drivewheel','carbody', 'enginelocation', 'enginetype', 'fuelsystem'])\n",
        "print(clean_data.isna().any())\n"
      ],
      "metadata": {
        "id": "mJT2k3KbCB-J",
        "colab": {
          "base_uri": "https://localhost:8080/"
        },
        "outputId": "e05ae6dd-0f0e-401d-80ec-cb8c37771f3c"
      },
      "execution_count": 74,
      "outputs": [
        {
          "output_type": "stream",
          "name": "stdout",
          "text": [
            "   symboling fueltype aspiration doornumber      carbody drivewheel  \\\n",
            "0        3.0      gas        std        two  convertible        rwd   \n",
            "1        3.0      gas        std        two  convertible        rwd   \n",
            "2        1.0      gas        std        two    hatchback        rwd   \n",
            "3        2.0      gas        std       four        sedan        fwd   \n",
            "4        2.0      gas        std       four        sedan        4wd   \n",
            "\n",
            "  enginelocation  wheelbase  carlength  carwidth  ...  enginesize  fuelsystem  \\\n",
            "0          front       88.6      168.8      64.1  ...       130.0        mpfi   \n",
            "1          front       88.6      168.8      64.1  ...       130.0        mpfi   \n",
            "2          front       94.5      171.2      65.5  ...       152.0        mpfi   \n",
            "3          front       99.8      176.6      66.2  ...       109.0        mpfi   \n",
            "4          front       99.4      176.6      66.4  ...       136.0        mpfi   \n",
            "\n",
            "  boreratio stroke  compressionratio horsepower  peakrpm  citympg  highwaympg  \\\n",
            "0      3.47   2.68               9.0      111.0   5000.0     21.0        27.0   \n",
            "1      3.47   2.68               9.0      111.0   5000.0     21.0        27.0   \n",
            "2      2.68   3.47               9.0      154.0   5000.0     19.0        26.0   \n",
            "3      3.19   3.40              10.0      102.0   5500.0     24.0        30.0   \n",
            "4      3.19   3.40               8.0      115.0   5500.0     18.0        22.0   \n",
            "\n",
            "     price  \n",
            "0  13495.0  \n",
            "1  16500.0  \n",
            "2  16500.0  \n",
            "3  13950.0  \n",
            "4  17450.0  \n",
            "\n",
            "[5 rows x 24 columns]\n",
            "symboling               False\n",
            "doornumber              False\n",
            "wheelbase               False\n",
            "carlength               False\n",
            "carwidth                False\n",
            "carheight               False\n",
            "curbweight              False\n",
            "cylindernumber          False\n",
            "enginesize              False\n",
            "boreratio               False\n",
            "stroke                  False\n",
            "compressionratio        False\n",
            "horsepower              False\n",
            "peakrpm                 False\n",
            "citympg                 False\n",
            "highwaympg              False\n",
            "price                   False\n",
            "fueltype_diesel         False\n",
            "fueltype_gas            False\n",
            "aspiration_std          False\n",
            "aspiration_turbo        False\n",
            "drivewheel_4wd          False\n",
            "drivewheel_fwd          False\n",
            "drivewheel_rwd          False\n",
            "carbody_convertible     False\n",
            "carbody_hardtop         False\n",
            "carbody_hatchback       False\n",
            "carbody_sedan           False\n",
            "carbody_wagon           False\n",
            "enginelocation_front    False\n",
            "enginelocation_rear     False\n",
            "enginetype_dohc         False\n",
            "enginetype_dohcv        False\n",
            "enginetype_l            False\n",
            "enginetype_ohc          False\n",
            "enginetype_ohcf         False\n",
            "enginetype_ohcv         False\n",
            "enginetype_rotor        False\n",
            "fuelsystem_1bbl         False\n",
            "fuelsystem_2bbl         False\n",
            "fuelsystem_4bbl         False\n",
            "fuelsystem_idi          False\n",
            "fuelsystem_mfi          False\n",
            "fuelsystem_mpfi         False\n",
            "fuelsystem_spdi         False\n",
            "fuelsystem_spfi         False\n",
            "dtype: bool\n"
          ]
        }
      ]
    },
    {
      "cell_type": "markdown",
      "source": [
        "# Part 1: Regression\n",
        "How well can you predict target value `price`?"
      ],
      "metadata": {
        "id": "8AOn5pGfIqwM"
      }
    },
    {
      "cell_type": "markdown",
      "source": [
        "- **Metrics**: Identify which metrics you will be using to test your model, and say why they are appropriate. Identify a baseline for your metrics - what would you expect to happen with this particular data if you always guessed the average or if you guessed randomly?\n"
      ],
      "metadata": {
        "id": "lEASENsEfZDo"
      }
    },
    {
      "cell_type": "markdown",
      "source": [
        "For metrics we will be using R squared and mean-squared-error to see the accuracy of our data in this regression model. These metrics do a great job of showing how far off are prediction is. For R^2 if we get a value of 1, that means we did a perfect job fitting our model to the test data and we get a 0 value if our model just guesses the average everytime. MSE is also another metric to show how far off predictions are except we want the lowest MSE possible however with so many predictor variables our MSE will be a large number. With these metrics I will be focusing on the model's R^2 value first and then using the MSE as backup if two K or max_depth values are pretty similar to see which one should be used in the final model. Im hoping to get an R^2 value above 0.5 but would like to see it between 0.7 and 0.8 because then we would have a pretty good model. Anything over 0 would be good because it would be a sign that our model does a better job than just a random guess or average guess."
      ],
      "metadata": {
        "id": "g4XQ5S3xfQnF"
      }
    },
    {
      "cell_type": "markdown",
      "source": [
        "- **Initial Models**: Develop basic code for kNN, weighted kNN, and Decision Trees. Make some experiments here, including graphs to help you identify which algorithm and parameters may be best.\n"
      ],
      "metadata": {
        "id": "KUgXptPgfbD5"
      }
    },
    {
      "cell_type": "code",
      "source": [
        "#Splitting data for testing our model\n",
        "target = 'price'\n",
        "predictors = clean_data.columns.drop(target)\n",
        "train_data, test_data, train_sln, test_sln = \\\n",
        "        train_test_split(clean_data[predictors], clean_data[target], test_size = 0.2, random_state=41)\n",
        "\n",
        "from sklearn.preprocessing import StandardScaler\n",
        "scaler = StandardScaler()\n",
        "scaler.fit(train_data)\n",
        "train_data_normalized = scaler.transform(train_data)\n",
        "test_data_normalized = scaler.transform(test_data)"
      ],
      "metadata": {
        "id": "vFcKzfSUf1Ng"
      },
      "execution_count": 75,
      "outputs": []
    },
    {
      "cell_type": "code",
      "source": [
        "#code for KNN\n",
        "neigh = neighbors.KNeighborsRegressor(n_neighbors = 5) ### Don't miss this! Doing Regression here!!\n",
        "# fit (train) the model to the data\n",
        "neigh.fit(train_data_normalized, train_sln)\n",
        "# use the trained model to get predictions from our test_data\n",
        "predictions = neigh.predict(test_data_normalized)\n",
        "current_accuracy = metrics.r2_score(test_sln, predictions)"
      ],
      "metadata": {
        "id": "wBbXWmK7f1HE"
      },
      "execution_count": 76,
      "outputs": []
    },
    {
      "cell_type": "code",
      "source": [
        "#code for w-knn\n",
        "neighw = neighbors.KNeighborsRegressor(n_neighbors= 5,weights = 'distance') ### Don't miss this! Doing Regression here!!\n",
        "# fit (train) the model to the data\n",
        "neighw.fit(train_data_normalized, train_sln)\n",
        "# use the trained model to get predictions from our test_data\n",
        "predictionsw = neighw.predict(test_data_normalized)"
      ],
      "metadata": {
        "id": "W70KxGTJf1BK"
      },
      "execution_count": 77,
      "outputs": []
    },
    {
      "cell_type": "code",
      "source": [
        "#code for Decision trees\n",
        "dt = tree.DecisionTreeRegressor()\n",
        "#4. Call fit (to train the classification/regression model)\n",
        "dt.fit(train_data_normalized, train_sln)\n",
        "#5. Call predict to generate predictions\n",
        "P_predictions = dt.predict(test_data_normalized)"
      ],
      "metadata": {
        "id": "5Bn8Ej7ef0cC"
      },
      "execution_count": 78,
      "outputs": []
    },
    {
      "cell_type": "code",
      "source": [
        "#Graph for knn \n",
        "import matplotlib.pyplot as plt\n",
        "%matplotlib inline\n",
        "k_vals = [3,5,7,9,11,13,15,17]\n",
        "kNN_accuracies = []\n",
        "for k in k_vals:\n",
        "    neigh = neighbors.KNeighborsRegressor(n_neighbors = k) ### Don't miss this! Doing Regression here!!\n",
        "# fit (train) the model to the data\n",
        "    neigh.fit(train_data_normalized, train_sln)\n",
        "# use the trained model to get predictions from our test_data\n",
        "    predictions = neigh.predict(test_data_normalized)\n",
        "    current_accuracy = metrics.r2_score(test_sln, predictions)\n",
        "    kNN_accuracies.append(current_accuracy)\n",
        "    print(k, metrics.mean_squared_error(test_sln, predictions))\n",
        "\n",
        "plt.suptitle('R^2 of Price Predictions',fontsize=18)\n",
        "plt.xlabel('k')\n",
        "plt.ylabel('R^2')\n",
        "plt.plot(k_vals,kNN_accuracies,\"ro-\",label='R^2')\n",
        "plt.legend(loc='lower left', shadow=True)\n",
        "plt.axis([3,17,0.5,1])\n",
        "\n",
        "plt.show()\n",
        "\n",
        "#Best K Value is 13"
      ],
      "metadata": {
        "id": "FhY2kayUf0R-",
        "colab": {
          "base_uri": "https://localhost:8080/",
          "height": 450
        },
        "outputId": "8033794a-06b7-48ee-d41e-455fc9c80b7c"
      },
      "execution_count": 79,
      "outputs": [
        {
          "output_type": "stream",
          "name": "stdout",
          "text": [
            "3 10209259.370117318\n",
            "5 14767887.31240914\n",
            "7 11707807.800195482\n",
            "9 12022856.002983792\n",
            "11 11174508.598270716\n",
            "13 10555889.756037738\n",
            "15 11353372.439159524\n",
            "17 11701150.733452471\n"
          ]
        },
        {
          "output_type": "display_data",
          "data": {
            "text/plain": [
              "<Figure size 432x288 with 1 Axes>"
            ],
            "image/png": "[encoded data removed]"
          },
          "metadata": {
            "needs_background": "light"
          }
        }
      ]
    },
    {
      "cell_type": "code",
      "source": [
        "#graph for Wknn\n",
        "k_vals = [3,5,7,9,11,13,15,17]\n",
        "wkNN_accuracies = []\n",
        "for k in k_vals:\n",
        "    neighw = neighbors.KNeighborsRegressor(n_neighbors= k ,weights = 'distance')### Don't miss this! Doing Regression here!!\n",
        "# fit (train) the model to the data\n",
        "    neighw.fit(train_data_normalized, train_sln)\n",
        "# use the trained model to get predictions from our test_data\n",
        "    predictionsw = neighw.predict(test_data_normalized)\n",
        "    current_accuracy = metrics.r2_score(test_sln, predictionsw)\n",
        "    wkNN_accuracies.append(current_accuracy)\n",
        "    print(k, metrics.mean_squared_error(test_sln, predictionsw))\n",
        "\n",
        "plt.suptitle('R^2 of Price Predictions',fontsize=18)\n",
        "plt.xlabel('k')\n",
        "plt.ylabel('R^2')\n",
        "plt.plot(k_vals,wkNN_accuracies,\"ro-\",label='R^2')\n",
        "\n",
        "plt.legend(loc='lower left', shadow=True)\n",
        "plt.axis([3,17,0.5,1])\n",
        "\n",
        "plt.show()\n",
        "\n",
        "#Best K value is 13"
      ],
      "metadata": {
        "id": "8tR0Qcdof0G2",
        "colab": {
          "base_uri": "https://localhost:8080/",
          "height": 450
        },
        "outputId": "63257502-2de6-4cd7-ad30-0f2dcdc6e4a2"
      },
      "execution_count": 80,
      "outputs": [
        {
          "output_type": "stream",
          "name": "stdout",
          "text": [
            "3 9838884.927963385\n",
            "5 12253498.939180624\n",
            "7 9722963.545887109\n",
            "9 10870931.026315846\n",
            "11 10120331.339247284\n",
            "13 9661040.21083177\n",
            "15 10338866.601146827\n",
            "17 10709605.35421488\n"
          ]
        },
        {
          "output_type": "display_data",
          "data": {
            "text/plain": [
              "<Figure size 432x288 with 1 Axes>"
            ],
            "image/png": "[encoded data removed]"
          },
          "metadata": {
            "needs_background": "light"
          }
        }
      ]
    },
    {
      "cell_type": "code",
      "source": [
        "#graph for decision trees\n",
        "k_vals = [3,5,7,9,11,13,15,17]\n",
        "dt_accuracies = []\n",
        "for k in k_vals:\n",
        "    dt = tree.DecisionTreeRegressor(max_depth=k)\n",
        "\n",
        "#4. Call fit (to train the classification/regression model)\n",
        "    dt.fit(train_data_normalized, train_sln)\n",
        "\n",
        "#5. Call predict to generate predictions\n",
        "    predictions = dt.predict(test_data_normalized)\n",
        "    current_accuracy = metrics.r2_score(test_sln, predictions)\n",
        "    dt_accuracies.append(current_accuracy)\n",
        "    print(k, metrics.mean_squared_error(test_sln, predictions))\n",
        "\n",
        "plt.suptitle('R^2of Price Predictions',fontsize=18)\n",
        "plt.xlabel('k')\n",
        "plt.ylabel('R^2')\n",
        "plt.plot(k_vals,dt_accuracies,\"ro-\",label='R^2')\n",
        "plt.legend(loc='lower left', shadow=True)\n",
        "plt.axis([3,17,0.5,1])\n",
        "\n",
        "plt.show()\n",
        "\n",
        "#Best Max depth was 5"
      ],
      "metadata": {
        "id": "IetlmUXkhWr8",
        "colab": {
          "base_uri": "https://localhost:8080/",
          "height": 450
        },
        "outputId": "01a50b69-20d5-4905-eb23-4ad34c19a9ea"
      },
      "execution_count": 81,
      "outputs": [
        {
          "output_type": "stream",
          "name": "stdout",
          "text": [
            "3 12523041.214834794\n",
            "5 11877423.413371645\n",
            "7 9093143.908204248\n",
            "9 14582049.09861182\n",
            "11 13325019.975459844\n",
            "13 12194912.572039124\n",
            "15 13372271.468380587\n",
            "17 12580598.98545376\n"
          ]
        },
        {
          "output_type": "display_data",
          "data": {
            "text/plain": [
              "<Figure size 432x288 with 1 Axes>"
            ],
            "image/png": "[encoded data removed]"
          },
          "metadata": {
            "needs_background": "light"
          }
        }
      ]
    },
    {
      "cell_type": "markdown",
      "source": [
        "- **Fine Tuning**: Create graphs to help you identify the **optimal** values of parameters you wish to use. Utilize different train/test splits. Full credit for thorough testing and documentation."
      ],
      "metadata": {
        "id": "p5GU7hADhGVm"
      }
    },
    {
      "cell_type": "markdown",
      "source": [
        "From our testing graphs I found that W-knn was the best model for predicting our testing solutions so I decided to move on using that"
      ],
      "metadata": {
        "id": "EDVSqzGfwQbf"
      }
    },
    {
      "cell_type": "code",
      "source": [
        "target4 = 'price'\n",
        "predictors4 = ['enginesize', 'cylindernumber','wheelbase', 'curbweight','boreratio','horsepower','peakrpm']\n",
        "train_data4, test_data4, train_sln4, test_sln4 = \\\n",
        "        train_test_split(clean_data[predictors4], clean_data[target4], test_size = 0.2, random_state=41)\n",
        "from sklearn.preprocessing import StandardScaler\n",
        "scaler = StandardScaler()\n",
        "scaler.fit(train_data4)\n",
        "train_data_normalized4 = scaler.transform(train_data4)\n",
        "test_data_normalized4 = scaler.transform(test_data4)\n",
        "\n",
        "#graph for Wknn\n",
        "k_vals4 = [3,5,7,9,11,13,15,17]\n",
        "wkNN4_accuracies = []\n",
        "for k in k_vals4:\n",
        "    neighw4 = neighbors.KNeighborsRegressor(n_neighbors= k ,weights = 'distance')### Don't miss this! Doing Regression here!!\n",
        "# fit (train) the model to the data\n",
        "    neighw4.fit(train_data_normalized4, train_sln4)\n",
        "# use the trained model to get predictions from our test_data\n",
        "    predictionsw4 = neighw4.predict(test_data_normalized4)\n",
        "    current_accuracy4 = metrics.r2_score(test_sln4, predictionsw4)\n",
        "    wkNN4_accuracies.append(current_accuracy4)\n",
        "    print(k, metrics.mean_squared_error(test_sln4, predictionsw4))\n",
        "    print(current_accuracy4)\n",
        "plt.suptitle('R^2 of Price Predictions',fontsize=18)\n",
        "plt.xlabel('k')\n",
        "plt.ylabel('R^2')\n",
        "plt.plot(k_vals4,wkNN4_accuracies,\"ro-\",label='R^2')\n",
        "\n",
        "plt.legend(loc='lower left', shadow=True)\n",
        "plt.axis([3,17,0.5,1])\n",
        "\n",
        "plt.show()\n",
        "\n"
      ],
      "metadata": {
        "colab": {
          "base_uri": "https://localhost:8080/",
          "height": 592
        },
        "id": "_zoUq-lSwPtZ",
        "outputId": "a9201d24-b5d5-4721-df6c-17a45ff24299"
      },
      "execution_count": 82,
      "outputs": [
        {
          "output_type": "stream",
          "name": "stdout",
          "text": [
            "3 5027118.053772381\n",
            "0.8670559155132422\n",
            "5 4752417.205720813\n",
            "0.8743204858617637\n",
            "7 5131246.136653919\n",
            "0.8643022080212013\n",
            "9 5195776.494687395\n",
            "0.8625956777033136\n",
            "11 5313568.134410835\n",
            "0.8594806321571928\n",
            "13 5897052.251303824\n",
            "0.8440501686384988\n",
            "15 6173658.404649754\n",
            "0.8367352117533341\n",
            "17 7003468.362051263\n",
            "0.8147905659533502\n"
          ]
        },
        {
          "output_type": "display_data",
          "data": {
            "text/plain": [
              "<Figure size 432x288 with 1 Axes>"
            ],
            "image/png": "[encoded data removed]"
          },
          "metadata": {
            "needs_background": "light"
          }
        }
      ]
    },
    {
      "cell_type": "markdown",
      "source": [
        "- **Analysis**: What did you determine? What did you notice? How did you identify which learning algorithms you will try and which important parameters you will tune for each one? What is your predictions for the 'competition testing set'."
      ],
      "metadata": {
        "id": "BuAc13cbfeTw"
      }
    },
    {
      "cell_type": "code",
      "source": [
        "#competition model\n",
        "'''\n",
        "target4 = 'price'\n",
        "predictors4 = ['enginesize', 'cylindernumber','wheelbase', 'curbweight','boreratio','horsepower','peakrpm']\n",
        "train_data4, test_data4, train_sln4, test_sln4 = \\\n",
        "        train_test_split(clean_data[predictors4], clean_data[target4], test_size = 0.2, random_state=41)\n",
        "\n",
        "from sklearn.preprocessing import StandardScaler\n",
        "scaler = StandardScaler()\n",
        "scaler.fit(train_data4)\n",
        "train_data_normalized4 = scaler.transform(train_data4)\n",
        "test_data_normalized4 = scaler.transform(test_data4)\n",
        "\n",
        "neighw4 = neighbors.KNeighborsRegressor(n_neighbors= 5,weights = 'distance') ### Don't miss this! Doing Regression here!!\n",
        "# fit (train) the model to the data\n",
        "neighw4.fit(train_data_normalized4, train_sln4)\n",
        "# use the trained model to get predictions from our test_data\n",
        "predictionsw4 = neighw4.predict(test_data_normalized4)\n",
        "'''\n",
        "\n"
      ],
      "metadata": {
        "id": "Kos1WGbi1iuV",
        "colab": {
          "base_uri": "https://localhost:8080/",
          "height": 106
        },
        "outputId": "404cf88f-c206-4b28-8769-2a1138b0ca3e"
      },
      "execution_count": 83,
      "outputs": [
        {
          "output_type": "execute_result",
          "data": {
            "text/plain": [
              "\"\\ntarget4 = 'price'\\npredictors4 = ['enginesize', 'cylindernumber','wheelbase', 'curbweight','boreratio','horsepower','peakrpm']\\ntrain_data4, test_data4, train_sln4, test_sln4 =         train_test_split(clean_data[predictors4], clean_data[target4], test_size = 0.2, random_state=41)\\n\\nfrom sklearn.preprocessing import StandardScaler\\nscaler = StandardScaler()\\nscaler.fit(train_data4)\\ntrain_data_normalized4 = scaler.transform(train_data4)\\ntest_data_normalized4 = scaler.transform(test_data4)\\n\\nneighw4 = neighbors.KNeighborsRegressor(n_neighbors= 5,weights = 'distance') ### Don't miss this! Doing Regression here!!\\n# fit (train) the model to the data\\nneighw4.fit(train_data_normalized4, train_sln4)\\n# use the trained model to get predictions from our test_data\\npredictionsw4 = neighw4.predict(test_data_normalized4)\\n\""
            ],
            "application/vnd.google.colaboratory.intrinsic+json": {
              "type": "string"
            }
          },
          "metadata": {},
          "execution_count": 83
        }
      ]
    },
    {
      "cell_type": "markdown",
      "source": [
        "After testing the different models I felt like the weighted Knn did the best job for predicting based of R^2 and MSE values. In my initial models I tested with different k values and changed some of the other paramaters like algorithm and distance equation(Euclidean vs Minkowski). After testing I found that the default parameters beside k value were best when at the default setting. I then used the WKNN model in my fine tuning to find the best variables to predict price. I tried it with variables that were similar and some random variables put together and ended up with these varaibles. I chose these variables because these were the ones to help improve my model past where it was in the initial model testing. My prediction for the competition set is that it will do well or really bad as I don't know if these certain variables being used are great predictors or just work well on my specific test data"
      ],
      "metadata": {
        "id": "hV4yrLa31iZo"
      }
    },
    {
      "cell_type": "markdown",
      "source": [
        "# Part 2: Classification\n",
        "How well can you predict `carbody`?"
      ],
      "metadata": {
        "id": "V66vPg8kI8Ld"
      }
    },
    {
      "cell_type": "markdown",
      "source": [
        "- **Metrics**: Identify which metrics you will be using to test your model, and say why they are appropriate. Identify a baseline for your metrics - what would you expect to happen with this particular data if you always guessed the average or if you guessed randomly?\n"
      ],
      "metadata": {
        "id": "40_i2vfNfjfi"
      }
    },
    {
      "cell_type": "markdown",
      "source": [
        "Using Accuracy which is a measure of how often our model returns the right answer as our metric to see how well our model is doing. My baseline is zero because if our model is greater than 0 then it means that it is improving itself over just an average guess."
      ],
      "metadata": {
        "id": "mMu7F4ajEGYc"
      }
    },
    {
      "cell_type": "markdown",
      "source": [
        "- **Initial Models**: Develop basic code for kNN, weighted kNN, and Decision Trees. Make some experiments here, including graphs to help you identify which algorithm and parameters may be best.\n"
      ],
      "metadata": {
        "id": "Mhfl0tu4fnI_"
      }
    },
    {
      "cell_type": "code",
      "source": [
        "clean_data2 = pandas.read_csv('/content/drive/MyDrive/CS167datasets/CarPricesProject1.csv')\n",
        "clean_data2.drop(columns= ['CarName'], inplace = True)\n",
        "print(clean_data2.head())\n",
        "\n",
        "clean_data2['symboling'].fillna(clean_data2['symboling'].mean(), inplace = True)\n",
        "clean_data2['wheelbase'].fillna(clean_data2['wheelbase'].mean(), inplace = True)\n",
        "clean_data2['carlength'].fillna(clean_data2['carlength'].mean(), inplace = True)\n",
        "clean_data2['carwidth'].fillna(clean_data2['carwidth'].mean(), inplace = True)\n",
        "clean_data2['carheight'].fillna(clean_data2['carheight'].mean(), inplace = True)\n",
        "clean_data2['curbweight'].fillna(clean_data2['curbweight'].mean(), inplace = True)\n",
        "clean_data2['enginesize'].fillna(clean_data2['enginesize'].mean(), inplace = True)\n",
        "clean_data2['boreratio'].fillna(clean_data2['boreratio'].mean(), inplace = True)\n",
        "clean_data2['stroke'].fillna(clean_data2['stroke'].mean(), inplace = True)\n",
        "clean_data2['compressionratio'].fillna(clean_data2['compressionratio'].mean(), inplace = True)\n",
        "clean_data2['horsepower'].fillna(clean_data2['horsepower'].mean(), inplace = True)\n",
        "clean_data2['peakrpm'].fillna(clean_data2['peakrpm'].mean(), inplace = True)\n",
        "clean_data2['citympg'].fillna(clean_data2['citympg'].mean(), inplace = True)\n",
        "clean_data2['highwaympg'].fillna(clean_data2['highwaympg'].mean(), inplace = True)\n",
        "clean_data2['price'].fillna(clean_data2['price'].mean(), inplace = True)\n",
        "\n",
        "clean_data2['doornumber'].replace(['two','four'], [2,4], inplace = True)\n",
        "clean_data2['doornumber'].fillna(clean_data2['doornumber'].median(), inplace = True)\n",
        "clean_data2['cylindernumber'].replace(['two','three','four','five','six','eight','twelve'], [2,3,4,5,6,8,12], inplace = True)\n",
        "clean_data2['cylindernumber'].fillna(clean_data2['cylindernumber'].median(), inplace = True)\n",
        "\n",
        "clean_data2 = pandas.get_dummies(clean_data2, columns =['fueltype','aspiration','drivewheel', 'enginelocation', 'enginetype', 'fuelsystem'])\n",
        "clean_data2 = clean_data2.dropna(axis = 0, subset=['carbody'])\n",
        "print(clean_data2.isna().any())\n",
        "print(clean_data2.shape)"
      ],
      "metadata": {
        "id": "6qevymRNvpvP",
        "colab": {
          "base_uri": "https://localhost:8080/"
        },
        "outputId": "b098fa44-51ba-4ece-ff8b-e7248d75fb1d"
      },
      "execution_count": 84,
      "outputs": [
        {
          "output_type": "stream",
          "name": "stdout",
          "text": [
            "   symboling fueltype aspiration doornumber      carbody drivewheel  \\\n",
            "0        3.0      gas        std        two  convertible        rwd   \n",
            "1        3.0      gas        std        two  convertible        rwd   \n",
            "2        1.0      gas        std        two    hatchback        rwd   \n",
            "3        2.0      gas        std       four        sedan        fwd   \n",
            "4        2.0      gas        std       four        sedan        4wd   \n",
            "\n",
            "  enginelocation  wheelbase  carlength  carwidth  ...  enginesize  fuelsystem  \\\n",
            "0          front       88.6      168.8      64.1  ...       130.0        mpfi   \n",
            "1          front       88.6      168.8      64.1  ...       130.0        mpfi   \n",
            "2          front       94.5      171.2      65.5  ...       152.0        mpfi   \n",
            "3          front       99.8      176.6      66.2  ...       109.0        mpfi   \n",
            "4          front       99.4      176.6      66.4  ...       136.0        mpfi   \n",
            "\n",
            "  boreratio stroke  compressionratio horsepower  peakrpm  citympg  highwaympg  \\\n",
            "0      3.47   2.68               9.0      111.0   5000.0     21.0        27.0   \n",
            "1      3.47   2.68               9.0      111.0   5000.0     21.0        27.0   \n",
            "2      2.68   3.47               9.0      154.0   5000.0     19.0        26.0   \n",
            "3      3.19   3.40              10.0      102.0   5500.0     24.0        30.0   \n",
            "4      3.19   3.40               8.0      115.0   5500.0     18.0        22.0   \n",
            "\n",
            "     price  \n",
            "0  13495.0  \n",
            "1  16500.0  \n",
            "2  16500.0  \n",
            "3  13950.0  \n",
            "4  17450.0  \n",
            "\n",
            "[5 rows x 24 columns]\n",
            "symboling               False\n",
            "doornumber              False\n",
            "carbody                 False\n",
            "wheelbase               False\n",
            "carlength               False\n",
            "carwidth                False\n",
            "carheight               False\n",
            "curbweight              False\n",
            "cylindernumber          False\n",
            "enginesize              False\n",
            "boreratio               False\n",
            "stroke                  False\n",
            "compressionratio        False\n",
            "horsepower              False\n",
            "peakrpm                 False\n",
            "citympg                 False\n",
            "highwaympg              False\n",
            "price                   False\n",
            "fueltype_diesel         False\n",
            "fueltype_gas            False\n",
            "aspiration_std          False\n",
            "aspiration_turbo        False\n",
            "drivewheel_4wd          False\n",
            "drivewheel_fwd          False\n",
            "drivewheel_rwd          False\n",
            "enginelocation_front    False\n",
            "enginelocation_rear     False\n",
            "enginetype_dohc         False\n",
            "enginetype_dohcv        False\n",
            "enginetype_l            False\n",
            "enginetype_ohc          False\n",
            "enginetype_ohcf         False\n",
            "enginetype_ohcv         False\n",
            "enginetype_rotor        False\n",
            "fuelsystem_1bbl         False\n",
            "fuelsystem_2bbl         False\n",
            "fuelsystem_4bbl         False\n",
            "fuelsystem_idi          False\n",
            "fuelsystem_mfi          False\n",
            "fuelsystem_mpfi         False\n",
            "fuelsystem_spdi         False\n",
            "fuelsystem_spfi         False\n",
            "dtype: bool\n",
            "(204, 42)\n"
          ]
        }
      ]
    },
    {
      "cell_type": "code",
      "source": [
        "#Splitting data for testing our model\n",
        "target2 = 'carbody'\n",
        "predictors2 = clean_data2.columns.drop(target2)\n",
        "train_data2, test_data2, train_sln2, test_sln2 = \\\n",
        "        train_test_split(clean_data2[predictors2], clean_data2[target2], test_size = 0.2, random_state=41)\n",
        "\n",
        "from sklearn.preprocessing import StandardScaler\n",
        "scaler = StandardScaler()\n",
        "scaler.fit(train_data2)\n",
        "train_data_normalized2 = scaler.transform(train_data2)\n",
        "test_data_normalized2 = scaler.transform(test_data2)\n"
      ],
      "metadata": {
        "id": "EZnh7MXxt_S8"
      },
      "execution_count": 85,
      "outputs": []
    },
    {
      "cell_type": "code",
      "source": [
        "neighc = neighbors.KNeighborsClassifier(n_neighbors = 5) ### Don't miss this! Doing Regression here!!\n",
        "# fit (train) the model to the data\n",
        "neighc.fit(train_data_normalized2, train_sln2)\n",
        "# use the trained model to get predictions from our test_data\n",
        "predictionsc = neighc.predict(test_data_normalized2)\n",
        "print(predictionsc)\n",
        "print(test_sln2)"
      ],
      "metadata": {
        "id": "G_YHJQIht_P8",
        "colab": {
          "base_uri": "https://localhost:8080/"
        },
        "outputId": "7c8033c0-bff6-421c-a652-7e599f35ad48"
      },
      "execution_count": 86,
      "outputs": [
        {
          "output_type": "stream",
          "name": "stdout",
          "text": [
            "['sedan' 'sedan' 'sedan' 'sedan' 'sedan' 'sedan' 'wagon' 'sedan'\n",
            " 'hatchback' 'convertible' 'hatchback' 'hatchback' 'hatchback' 'sedan'\n",
            " 'sedan' 'sedan' 'hatchback' 'sedan' 'sedan' 'sedan' 'sedan' 'sedan'\n",
            " 'sedan' 'sedan' 'sedan' 'sedan' 'convertible' 'sedan' 'sedan' 'wagon'\n",
            " 'sedan' 'sedan' 'hatchback' 'sedan' 'sedan' 'hatchback' 'sedan'\n",
            " 'hatchback' 'sedan' 'sedan' 'hatchback']\n",
            "97           wagon\n",
            "63           sedan\n",
            "172    convertible\n",
            "201          sedan\n",
            "68           wagon\n",
            "9        hatchback\n",
            "155          wagon\n",
            "92           sedan\n",
            "51       hatchback\n",
            "166      hatchback\n",
            "30       hatchback\n",
            "124      hatchback\n",
            "29       hatchback\n",
            "14           sedan\n",
            "169      hatchback\n",
            "168        hardtop\n",
            "91           sedan\n",
            "199          wagon\n",
            "38       hatchback\n",
            "138      hatchback\n",
            "189    convertible\n",
            "11           sedan\n",
            "49           sedan\n",
            "187          sedan\n",
            "174          sedan\n",
            "171      hatchback\n",
            "178      hatchback\n",
            "109          wagon\n",
            "61       hatchback\n",
            "145          sedan\n",
            "66           sedan\n",
            "117          sedan\n",
            "22       hatchback\n",
            "54           sedan\n",
            "131      hatchback\n",
            "46       hatchback\n",
            "167        hardtop\n",
            "42           sedan\n",
            "41           sedan\n",
            "108          sedan\n",
            "55       hatchback\n",
            "Name: carbody, dtype: object\n"
          ]
        }
      ]
    },
    {
      "cell_type": "code",
      "source": [
        "#code for WKnn classifier\n",
        "neighwc = neighbors.KNeighborsClassifier(n_neighbors= 3,weights = 'distance') ### Don't miss this! Doing Regression here!!\n",
        "# fit (train) the model to the data\n",
        "neighwc.fit(train_data_normalized2, train_sln2)\n",
        "# use the trained model to get predictions from our test_data\n",
        "predictionswc = neighwc.predict(test_data_normalized2)\n",
        "print(predictionswc)"
      ],
      "metadata": {
        "colab": {
          "base_uri": "https://localhost:8080/"
        },
        "id": "95mV4b-Yt_NO",
        "outputId": "98c46c73-e21a-4488-8390-82f5c00a3ac9"
      },
      "execution_count": 87,
      "outputs": [
        {
          "output_type": "stream",
          "name": "stdout",
          "text": [
            "['wagon' 'sedan' 'hardtop' 'sedan' 'sedan' 'sedan' 'wagon' 'sedan'\n",
            " 'hatchback' 'sedan' 'hatchback' 'hatchback' 'hatchback' 'sedan' 'hardtop'\n",
            " 'hardtop' 'sedan' 'sedan' 'hatchback' 'hatchback' 'sedan' 'sedan'\n",
            " 'convertible' 'sedan' 'sedan' 'hardtop' 'hatchback' 'sedan' 'hatchback'\n",
            " 'wagon' 'sedan' 'sedan' 'hatchback' 'sedan' 'sedan' 'hardtop' 'hardtop'\n",
            " 'hatchback' 'sedan' 'sedan' 'hatchback']\n"
          ]
        }
      ]
    },
    {
      "cell_type": "code",
      "source": [
        "#code for Decision trees\n",
        "dtc = tree.DecisionTreeClassifier()\n",
        "#4. Call fit (to train the classification/regression model)\n",
        "dtc.fit(train_data_normalized2, train_sln2)\n",
        "#5. Call predict to generate predictions\n",
        "C_predictions = dtc.predict(test_data_normalized2)\n",
        "\n",
        "print(C_predictions)"
      ],
      "metadata": {
        "colab": {
          "base_uri": "https://localhost:8080/"
        },
        "id": "Xdz8AbvNt_Jw",
        "outputId": "83e99363-8846-418a-ecb2-9a90d4bbf1ac"
      },
      "execution_count": 88,
      "outputs": [
        {
          "output_type": "stream",
          "name": "stdout",
          "text": [
            "['wagon' 'sedan' 'hardtop' 'sedan' 'wagon' 'sedan' 'wagon' 'sedan'\n",
            " 'hatchback' 'sedan' 'hatchback' 'hatchback' 'hatchback' 'sedan' 'hardtop'\n",
            " 'hardtop' 'hatchback' 'wagon' 'hatchback' 'hatchback' 'hatchback' 'sedan'\n",
            " 'sedan' 'sedan' 'sedan' 'hardtop' 'hatchback' 'wagon' 'hatchback' 'sedan'\n",
            " 'sedan' 'sedan' 'hatchback' 'sedan' 'hatchback' 'hatchback' 'hardtop'\n",
            " 'hatchback' 'sedan' 'sedan' 'hatchback']\n"
          ]
        }
      ]
    },
    {
      "cell_type": "code",
      "source": [
        "ck_vals = [1,3,5,7,9,11,13,15]\n",
        "ckNN_accuracies = []\n",
        "\n",
        "for k in ck_vals:\n",
        "    neighc = neighbors.KNeighborsClassifier(n_neighbors = k) ### Don't miss this! Doing Regression here!!\n",
        "    # fit (train) the model to the data\n",
        "    neighc.fit(train_data_normalized2, train_sln2)\n",
        "    # use the trained model to get predictions from our test_data\n",
        "    predictionsc = neighc.predict(test_data_normalized2)\n",
        "    current_accuracy = metrics.accuracy_score(test_sln2 ,predictionsc)\n",
        "    ckNN_accuracies.append(current_accuracy)\n",
        "\n",
        "\n",
        "plt.suptitle('Accuracy carbody classifier KNN',fontsize=18)\n",
        "plt.xlabel('k')\n",
        "plt.ylabel('accuracy')\n",
        "plt.plot(ck_vals,ckNN_accuracies,'ro-',label='k-NN')\n",
        "plt.legend(loc='lower left', shadow=True)\n",
        "plt.axis([1,15,0,1])\n",
        "\n",
        "plt.show()\n",
        "\n",
        "#Best neighbors value is at 9\n",
        "#tested changing distance calculation but did not improve accuracy (I.E not using euclidean distance formula)"
      ],
      "metadata": {
        "colab": {
          "base_uri": "https://localhost:8080/",
          "height": 308
        },
        "id": "5asSUxCnt_HV",
        "outputId": "82e28bc4-3a42-44cd-d25d-8c4a5f13ae25"
      },
      "execution_count": 89,
      "outputs": [
        {
          "output_type": "display_data",
          "data": {
            "text/plain": [
              "<Figure size 432x288 with 1 Axes>"
            ],
            "image/png": "[encoded data removed]"
          },
          "metadata": {
            "needs_background": "light"
          }
        }
      ]
    },
    {
      "cell_type": "code",
      "source": [
        "cwk_vals = [1,3,5,7,9,11,13,15]\n",
        "cwkNN_accuracies = []\n",
        "\n",
        "for k in cwk_vals:\n",
        "    neighwc = neighbors.KNeighborsClassifier(n_neighbors = k, weights = 'distance') ### Don't miss this! Doing Regression here!!\n",
        "    # fit (train) the model to the data\n",
        "    neighwc.fit(train_data_normalized2, train_sln2)\n",
        "    # use the trained model to get predictions from our test_data\n",
        "    predictionswc = neighwc.predict(test_data_normalized2)\n",
        "    current_accuracy = metrics.accuracy_score(test_sln2 ,predictionswc)\n",
        "    cwkNN_accuracies.append(current_accuracy)\n",
        "\n",
        "\n",
        "plt.suptitle('Accuracy carbody classifier W-KNN',fontsize=18)\n",
        "plt.xlabel('k')\n",
        "plt.ylabel('accuracy')\n",
        "plt.plot(cwk_vals,cwkNN_accuracies,'ro-',label='Wk-NN')\n",
        "plt.legend(loc='lower left', shadow=True)\n",
        "plt.axis([1,15,0,1])\n",
        "\n",
        "plt.show()"
      ],
      "metadata": {
        "colab": {
          "base_uri": "https://localhost:8080/",
          "height": 308
        },
        "id": "97GcRoXrS1f_",
        "outputId": "0c238ef4-3209-4364-cd4d-12ef594faeb0"
      },
      "execution_count": 90,
      "outputs": [
        {
          "output_type": "display_data",
          "data": {
            "text/plain": [
              "<Figure size 432x288 with 1 Axes>"
            ],
            "image/png": "[encoded data removed]"
          },
          "metadata": {
            "needs_background": "light"
          }
        }
      ]
    },
    {
      "cell_type": "code",
      "source": [
        "dtc_vals = [7,9,11,13,15,17,19,21]\n",
        "dtc_accuracies = []\n",
        "\n",
        "for k in dtc_vals:\n",
        "    dtc = tree.DecisionTreeClassifier(max_depth = k)\n",
        "#4. Call fit (to train the classification/regression model)\n",
        "    dtc.fit(train_data_normalized2, train_sln2)\n",
        "#5. Call predict to generate predictions\n",
        "    C_predictions = dtc.predict(test_data_normalized2)\n",
        "    current_accuracy = metrics.accuracy_score(test_sln2 ,C_predictions)\n",
        "    dtc_accuracies.append(current_accuracy)\n",
        "\n",
        "\n",
        "plt.suptitle('Accuracy carbody classifier Decision Tree',fontsize=18)\n",
        "plt.xlabel('k')\n",
        "plt.ylabel('accuracy')\n",
        "plt.plot(dtc_vals,dtc_accuracies,'ro-',label='DTC accuracy')\n",
        "plt.legend(loc='lower left', shadow=True)\n",
        "plt.axis([7,21,0,1])\n",
        "\n",
        "plt.show()\n",
        "print(dtc_accuracies)\n",
        "\n",
        "\n",
        "\n",
        "#Found optimal max_depth at 13\n",
        "#tested different features like max features and leaf nodes but found that they couldn't reliably lead to better results"
      ],
      "metadata": {
        "colab": {
          "base_uri": "https://localhost:8080/",
          "height": 326
        },
        "id": "rof7IB6cS1VT",
        "outputId": "c96635c7-4ae4-44dc-f300-3600f5644716"
      },
      "execution_count": 91,
      "outputs": [
        {
          "output_type": "display_data",
          "data": {
            "text/plain": [
              "<Figure size 432x288 with 1 Axes>"
            ],
            "image/png": "[encoded data removed]"
          },
          "metadata": {
            "needs_background": "light"
          }
        },
        {
          "output_type": "stream",
          "name": "stdout",
          "text": [
            "[0.7804878048780488, 0.7804878048780488, 0.8048780487804879, 0.8048780487804879, 0.8048780487804879, 0.8048780487804879, 0.7804878048780488, 0.8048780487804879]\n"
          ]
        }
      ]
    },
    {
      "cell_type": "markdown",
      "source": [
        "- **Fine Tuning**: Create graphs to help you identify the **optimal** values of parameters you wish to use. Utilize different train/test splits. Full credit for thorough testing and documentation."
      ],
      "metadata": {
        "id": "JTXPcgC_hT8r"
      }
    },
    {
      "cell_type": "markdown",
      "source": [
        "After seeing results for our knn, w-knn, and DT I decide to move forward with the decision tree because it had the best perfomance."
      ],
      "metadata": {
        "id": "8raBNQw2hbFp"
      }
    },
    {
      "cell_type": "code",
      "source": [
        "\n",
        "target3 = 'carbody'\n",
        "predictors3 = ['doornumber', 'wheelbase', 'carlength', 'carwidth', 'carheight','curbweight']\n",
        "train_data3, test_data3, train_sln3, test_sln3 = \\\n",
        "        train_test_split(clean_data2[predictors3], clean_data2[target3], test_size = 0.2, random_state=41)\n",
        "\n",
        "from sklearn.preprocessing import StandardScaler\n",
        "scaler = StandardScaler()\n",
        "scaler.fit(train_data3)\n",
        "train_data_normalized3 = scaler.transform(train_data3)\n",
        "test_data_normalized3 = scaler.transform(test_data3)\n",
        "\n",
        "dtc_vals3 = [7,9,11,13,15,17,19,21]\n",
        "dtc_accuracies3 = []\n",
        "\n",
        "for k in dtc_vals3:\n",
        "    dtc = tree.DecisionTreeClassifier(max_depth = k)\n",
        "#4. Call fit (to train the classification/regression model)\n",
        "    dtc.fit(train_data_normalized3, train_sln3)\n",
        "#5. Call predict to generate predictions\n",
        "    C3_predictions = dtc.predict(test_data_normalized3)\n",
        "    current_accuracy3 = metrics.accuracy_score(test_sln3 ,C3_predictions)\n",
        "    dtc_accuracies3.append(current_accuracy3)\n",
        "  \n",
        "\n",
        "\n",
        "plt.suptitle('Accuracy carbody classifier Decision Tree',fontsize=18)\n",
        "plt.xlabel('k')\n",
        "plt.ylabel('accuracy')\n",
        "plt.plot(dtc_vals3,dtc_accuracies3,'ro-',label='DTC accuracy')\n",
        "plt.legend(loc='lower left', shadow=True)\n",
        "plt.axis([7,21,0,1])\n",
        "\n",
        "plt.show()\n",
        "\n",
        "import itertools\n",
        "\n",
        "cm=metrics.confusion_matrix(test_sln2,C_predictions)\n",
        "plt.imshow(cm, interpolation='nearest',cmap=plt.cm.Blues)\n",
        "plt.title('Decision Tree Conf Matrix, Iris Data')\n",
        "plt.colorbar()\n",
        "plt.xticks([0,1,2,3,4], dtc.classes_,rotation=45)\n",
        "plt.yticks([0,1,2,3,4], dtc.classes_)\n",
        "thresh = cm.max() / 2.\n",
        "for i, j in itertools.product(range(cm.shape[0]), range(cm.shape[1])):\n",
        "        plt.text(j, i, format(cm[i, j], '.2f'),\n",
        "                horizontalalignment=\"center\",\n",
        "                color=\"white\" if cm[i, j] > thresh else \"black\")\n",
        "plt.ylabel('True label')\n",
        "plt.xlabel('Predicted label')\n",
        "print(dtc_accuracies3)"
      ],
      "metadata": {
        "colab": {
          "base_uri": "https://localhost:8080/",
          "height": 641
        },
        "id": "QrMypzMbh8_c",
        "outputId": "35a0a2d4-40f7-4455-aade-b8c17aeb86f1"
      },
      "execution_count": 92,
      "outputs": [
        {
          "output_type": "display_data",
          "data": {
            "text/plain": [
              "<Figure size 432x288 with 1 Axes>"
            ],
            "image/png": "[encoded data removed]"
          },
          "metadata": {
            "needs_background": "light"
          }
        },
        {
          "output_type": "stream",
          "name": "stdout",
          "text": [
            "[0.6341463414634146, 0.6585365853658537, 0.6585365853658537, 0.6585365853658537, 0.6341463414634146, 0.6341463414634146, 0.6585365853658537, 0.6341463414634146]\n"
          ]
        },
        {
          "output_type": "display_data",
          "data": {
            "text/plain": [
              "<Figure size 432x288 with 2 Axes>"
            ],
            "image/png": "[encoded data removed]"
          },
          "metadata": {
            "needs_background": "light"
          }
        }
      ]
    },
    {
      "cell_type": "markdown",
      "source": [
        "- **Analysis**: What did you determine? What did you notice? How did you identify which learning algorithms you will try and which important parameters you will tune for each one? What is your predictions for the 'competition testing set'."
      ],
      "metadata": {
        "id": "r2K1siBQfqXZ"
      }
    },
    {
      "cell_type": "code",
      "source": [
        "#Competition Code\n",
        "\n",
        "target2 = 'carbody'\n",
        "predictors2 = clean_data2.columns.drop(target2)\n",
        "train_data2, test_data2, train_sln2, test_sln2 = \\\n",
        "        train_test_split(clean_data2[predictors2], clean_data2[target2], test_size = 0.2, random_state=41)\n",
        "#code for Decision trees\n",
        "dtc = tree.DecisionTreeClassifier(max_depth=3)\n",
        "#4. Call fit (to train the classification/regression model)\n",
        "dtc.fit(train_data_normalized2, train_sln2)\n",
        "#5. Call predict to generate predictions\n",
        "C_predictions = dtc.predict(test_data_normalized2)\n",
        "\n",
        "import itertools\n",
        "\n",
        "cm=metrics.confusion_matrix(test_sln2,C_predictions)\n",
        "plt.imshow(cm, interpolation='nearest',cmap=plt.cm.Blues)\n",
        "plt.title('Decision Tree Conf Matrix, carbody prediction')\n",
        "plt.colorbar()\n",
        "plt.xticks([0,1,2,3,4], dtc.classes_,rotation=45)\n",
        "plt.yticks([0,1,2,3,4], dtc.classes_)\n",
        "thresh = cm.max() / 2.\n",
        "for i, j in itertools.product(range(cm.shape[0]), range(cm.shape[1])):\n",
        "        plt.text(j, i, format(cm[i, j], '.2f'),\n",
        "                horizontalalignment=\"center\",\n",
        "                color=\"white\" if cm[i, j] > thresh else \"black\")\n",
        "plt.ylabel('True label')\n",
        "plt.xlabel('Predicted label')\n"
      ],
      "metadata": {
        "id": "XkJ3bDdtnpjW",
        "colab": {
          "base_uri": "https://localhost:8080/",
          "height": 350
        },
        "outputId": "0d996a4a-31aa-4623-fc18-ae97968c6d26"
      },
      "execution_count": 93,
      "outputs": [
        {
          "output_type": "execute_result",
          "data": {
            "text/plain": [
              "Text(0.5, 0, 'Predicted label')"
            ]
          },
          "metadata": {},
          "execution_count": 93
        },
        {
          "output_type": "display_data",
          "data": {
            "text/plain": [
              "<Figure size 432x288 with 2 Axes>"
            ],
            "image/png": "[encoded data removed]"
          },
          "metadata": {
            "needs_background": "light"
          }
        }
      ]
    },
    {
      "cell_type": "markdown",
      "source": [
        "At the end of the day I decided to stick with the above commented code for my final model because it gave the best results out of my trials. It ended with an R^2 value of .804 which I felt was pretty good for this model. I tried changing some of the default parameters and testing them with the graphs and found that changing the parameters actually led my model to decline in performance. I tried to take this simpler stance again when testing different data slices to predict for my model. I tried three different splits where one just had engine and performance variables, one which is still above which had strictly variables about the shape of the car, and one with only a few varaibles that described various parts of the car. Still the one that did the best was the one that had all the variables with a max_depth of 13. I tried all 3 learning models normalizedand fel like I didn't want over tune the parameters so I left it very plain. My predictions for my competition set is that it will not perform as well as it did on the testing set however I hope that it is vague enough that it won't drop too much when in comp."
      ],
      "metadata": {
        "id": "8nkDwuL5nl3K"
      }
    },
    {
      "cell_type": "markdown",
      "source": [
        "*don't forget to print out a confusion matrix*"
      ],
      "metadata": {
        "id": "WubWwdQTgEQD"
      }
    },
    {
      "cell_type": "markdown",
      "source": [
        "# Part 3: Conclusions"
      ],
      "metadata": {
        "id": "iTyI7qqXJSBP"
      }
    },
    {
      "cell_type": "markdown",
      "source": [
        "**Bumps in the Road**: What challenges did you encounter? How did you overcome these challenges? Did you have to adapt your strategy to account for these challenges? Why or why not?\n"
      ],
      "metadata": {
        "id": "jHVoNCBogTRB"
      }
    },
    {
      "cell_type": "markdown",
      "source": [
        "I was lucky that I did not have to many challenges in the way of making this project. I was able to create my graphs and models pretty easily. A couple challenges came when trying to create different training datasets to see if different variables would work and I ended up just creating new train/ test split functions which ended up not being to bad. My original strategy was to find the parameters I wanted to use in the initial model phase and then test different variables in the fine tuning and I was able to do that without any issue so my strategy never really changed"
      ],
      "metadata": {
        "id": "zWvLzq2JH7Ew"
      }
    },
    {
      "cell_type": "markdown",
      "source": [
        "**Conclusions:** What insights/recommendations do you have? What did you find that was interesting? Which model was your best model, which models didn't work well? Why do you think this is? In general, I want a discussion of your experiment, the results, and what they mean."
      ],
      "metadata": {
        "id": "Hn9jY5BagYNN"
      }
    },
    {
      "cell_type": "markdown",
      "source": [
        "After this project I think I learned a lot about these machine learning models. Going into this project I assumed that there would be a lot of tweaking of parameters and a lot of testing to find the right parameters but that was not the case. After all of my testing it was pretty standard to leave most of the parameters as default which makes sense as SKlearn wants to use the best parameters most of the time which is why they are default. Therefore, I think my biggest insight is to keep your model basic and simple. Another thing I found interesting was when I tested carbody with the variables that strictly pertained to the size and shape of the car. I thought this subset would be perfect for fitting the model but it turns out it wasn't. In the end I found that You can make very good educated guesses with all of these models and they will do decent job of helping make predictions or forecasts for what you need."
      ],
      "metadata": {
        "id": "sSXOnWv2Ivph"
      }
    }
  ]
}